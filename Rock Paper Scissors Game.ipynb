{
 "cells": [
  {
   "cell_type": "markdown",
   "id": "efabbe23-feec-44e4-ae06-612c46ecef7b",
   "metadata": {},
   "source": [
    "# Rock Paper Scissors Game"
   ]
  },
  {
   "cell_type": "code",
   "execution_count": 2,
   "id": "74cbc4a6-e34c-46f8-9812-b4ec618439c7",
   "metadata": {},
   "outputs": [
    {
     "name": "stdout",
     "output_type": "stream",
     "text": [
      "Welcome to the Rock-Paper-Scissors Game!\n"
     ]
    },
    {
     "name": "stdin",
     "output_type": "stream",
     "text": [
      "Choose rock, paper, or scissors (or 'quit' to end):  paper\n"
     ]
    },
    {
     "name": "stdout",
     "output_type": "stream",
     "text": [
      "Computer choose: paper\n",
      "It's a tie!\n",
      "Scores - You: 0, Computer: 0\n"
     ]
    },
    {
     "name": "stdin",
     "output_type": "stream",
     "text": [
      "Choose rock, paper, or scissors (or 'quit' to end):  scissors\n"
     ]
    },
    {
     "name": "stdout",
     "output_type": "stream",
     "text": [
      "Computer choose: paper\n",
      "You win this round!\n",
      "Scores - You: 1, Computer: 0\n"
     ]
    },
    {
     "name": "stdin",
     "output_type": "stream",
     "text": [
      "Choose rock, paper, or scissors (or 'quit' to end):  rock\n"
     ]
    },
    {
     "name": "stdout",
     "output_type": "stream",
     "text": [
      "Computer choose: rock\n",
      "It's a tie!\n",
      "Scores - You: 1, Computer: 0\n"
     ]
    },
    {
     "name": "stdin",
     "output_type": "stream",
     "text": [
      "Choose rock, paper, or scissors (or 'quit' to end):  rock\n"
     ]
    },
    {
     "name": "stdout",
     "output_type": "stream",
     "text": [
      "Computer choose: scissors\n",
      "You win this round!\n",
      "Scores - You: 2, Computer: 0\n"
     ]
    },
    {
     "name": "stdin",
     "output_type": "stream",
     "text": [
      "Choose rock, paper, or scissors (or 'quit' to end):  quit\n"
     ]
    },
    {
     "name": "stdout",
     "output_type": "stream",
     "text": [
      "\n",
      "Final Scores:\n",
      "You: 2, Computer: 0\n",
      "Thanks for playing!\n"
     ]
    }
   ],
   "source": [
    "import random\n",
    "\n",
    "# Define choices\n",
    "choices = [\"rock\", \"paper\", \"scissors\"]\n",
    "\n",
    "# Function to determine the winner\n",
    "def determine_winner(user_choice, computer_choice):\n",
    "    if user_choice == computer_choice:\n",
    "        return \"tie\"\n",
    "    elif (user_choice == \"rock\" and computer_choice == \"scissors\") or \\\n",
    "         (user_choice == \"scissors\" and computer_choice == \"paper\") or \\\n",
    "         (user_choice == \"paper\" and computer_choice == \"rock\"):\n",
    "        return \"user\"\n",
    "    else:\n",
    "        return \"computer\"\n",
    "\n",
    "def play_game():\n",
    "    user_score = 0\n",
    "    computer_score = 0\n",
    "\n",
    "    while True:\n",
    "        # User input\n",
    "        user_choice = input(\"Choose rock, paper, or scissors (or 'quit' to end): \").lower()\n",
    "        if user_choice == \"quit\":\n",
    "            break\n",
    "        if user_choice not in choices:\n",
    "            print(\"Invalid choice, please try again.\")\n",
    "            continue\n",
    "\n",
    "        # Computer choice\n",
    "        computer_choice = random.choice(choices)\n",
    "        print(f\"Computer choose: {computer_choice}\")\n",
    "\n",
    "        # Determine winner\n",
    "        result = determine_winner(user_choice, computer_choice)\n",
    "\n",
    "        # Update scores and display result\n",
    "        if result == \"user\":\n",
    "            user_score += 1\n",
    "            print(\"You win this round!\")\n",
    "        elif result == \"computer\":\n",
    "            computer_score += 1\n",
    "            print(\"Computer wins this round!\")\n",
    "        else:\n",
    "            print(\"It's a tie!\")\n",
    "\n",
    "        # Display scores\n",
    "        print(f\"Scores - You: {user_score}, Computer: {computer_score}\")\n",
    "\n",
    "    # Final score display\n",
    "    print(\"\\nFinal Scores:\")\n",
    "    print(f\"You: {user_score}, Computer: {computer_score}\")\n",
    "    print(\"Thanks for playing!\")\n",
    "\n",
    "# Main function to start the game\n",
    "if __name__ == \"__main__\":\n",
    "    print(\"Welcome to the Rock-Paper-Scissors Game!\")\n",
    "    play_game()\n"
   ]
  },
  {
   "cell_type": "code",
   "execution_count": null,
   "id": "f2bdbeb5-8873-4054-8e00-771684840fee",
   "metadata": {},
   "outputs": [],
   "source": []
  }
 ],
 "metadata": {
  "kernelspec": {
   "display_name": "Python 3 (ipykernel)",
   "language": "python",
   "name": "python3"
  },
  "language_info": {
   "codemirror_mode": {
    "name": "ipython",
    "version": 3
   },
   "file_extension": ".py",
   "mimetype": "text/x-python",
   "name": "python",
   "nbconvert_exporter": "python",
   "pygments_lexer": "ipython3",
   "version": "3.11.7"
  }
 },
 "nbformat": 4,
 "nbformat_minor": 5
}
